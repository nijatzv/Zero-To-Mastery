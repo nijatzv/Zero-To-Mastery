{
 "cells": [
  {
   "cell_type": "markdown",
   "id": "a4c1ddb0",
   "metadata": {},
   "source": [
    "### EXERCISE: Pasword checker"
   ]
  },
  {
   "cell_type": "code",
   "execution_count": 5,
   "id": "9408c59f",
   "metadata": {},
   "outputs": [
    {
     "name": "stdout",
     "output_type": "stream",
     "text": [
      "username: nijat\n",
      "password: nijat20044\n"
     ]
    }
   ],
   "source": [
    "username = input('username: ')\n",
    "password = input('password: ')"
   ]
  },
  {
   "cell_type": "code",
   "execution_count": 8,
   "id": "563368f7",
   "metadata": {},
   "outputs": [
    {
     "name": "stdout",
     "output_type": "stream",
     "text": [
      "Nijat, your password ********** is 10 letters long!\n"
     ]
    }
   ],
   "source": [
    "print(f\"{username.title()}, your password {len(password)*'*'} is {len(password)} letters long!\")"
   ]
  }
 ],
 "metadata": {
  "kernelspec": {
   "display_name": "Python 3 (ipykernel)",
   "language": "python",
   "name": "python3"
  },
  "language_info": {
   "codemirror_mode": {
    "name": "ipython",
    "version": 3
   },
   "file_extension": ".py",
   "mimetype": "text/x-python",
   "name": "python",
   "nbconvert_exporter": "python",
   "pygments_lexer": "ipython3",
   "version": "3.11.5"
  }
 },
 "nbformat": 4,
 "nbformat_minor": 5
}
